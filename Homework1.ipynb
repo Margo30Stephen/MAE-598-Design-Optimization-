{
  "nbformat": 4,
  "nbformat_minor": 0,
  "metadata": {
    "colab": {
      "provenance": []
    },
    "kernelspec": {
      "name": "python3",
      "display_name": "Python 3"
    },
    "language_info": {
      "name": "python"
    }
  },
  "cells": [
    {
      "cell_type": "markdown",
      "source": [
        "# **MAE598 Homework 1**"
      ],
      "metadata": {
        "id": "vSN53UcW5yrn"
      }
    },
    {
      "cell_type": "markdown",
      "source": [
        "### Q1. Solve the following problem using Python SciPy.optimize or JuMP. Please attach your code and results. Specify your initial guesses of the solution. If you change your initial guess, do you find different solutions?\n",
        "\n",
        "\n",
        "###Minimize:\n",
        "(x1-x2)^2+(x2+x3-2)^2+(x4-1)^2+(x5-1)^2\n",
        "###Subject to:\n",
        "x1+3x2 = 0\n",
        "x3+x4-2x5 = 0\n",
        "x2-x5 = 0\n",
        "###Boundary Conditions :\n",
        "-10<= xi <= 10, i = 1,2,3,4,5\n",
        "###Initial guesses of the solution\n",
        "# [-4,-5,-6,-7,-8],[8,7,6,5,4],[20,21,22,23,24],[30,30,30,30,30],[-30,-30,-30,-30,-30],[0,0,0,0,0]"
      ],
      "metadata": {
        "id": "So8DIF3Z6EIc"
      }
    },
    {
      "cell_type": "code",
      "source": [
        "\n",
        "# First Iteration with initial conditions [-4,-5,-6,-7,-8]\n",
        "from scipy.optimize import minimize\n",
        "\n",
        "# Given Function\n",
        "fun = lambda x: (x[0] - x[1])**2 + (x[1] + x[2]-2)**2 + (x[3]-1)**2 + (x[4]-1)**2\n",
        "\n",
        "# Given Constraints\n",
        "constraint = ({'type': 'eq', 'fun': lambda x:  x[0] + 3 * x[1]},\n",
        "        {'type': 'eq', 'fun': lambda x:  x[2]+ x[3] - 2 * x[4]},\n",
        "        {'type': 'eq', 'fun': lambda x:  x[1]-x[4]})\n",
        "\n",
        "# Given Boundary Conditions\n",
        "boundary = ((-10,10),(-10,10),(-10,10),(-10,10),(-10,10))\n",
        "\n",
        "# Execution\n",
        "result1 = minimize(fun, (-4,-5,-6,-7,-8), method='SLSQP', bounds=boundary,constraints=constraint)\n",
        "\n",
        "# Output\n",
        "result1\n",
        "print(result1)"
      ],
      "metadata": {
        "colab": {
          "base_uri": "https://localhost:8080/"
        },
        "id": "5ixznKwH7j-7",
        "outputId": "5aaebd88-b3d9-4c80-9a0e-f62d9210aa30"
      },
      "execution_count": 16,
      "outputs": [
        {
          "output_type": "stream",
          "name": "stdout",
          "text": [
            " message: Optimization terminated successfully\n",
            " success: True\n",
            "  status: 0\n",
            "     fun: 4.093023311079211\n",
            "       x: [-7.675e-01  2.558e-01  6.281e-01 -1.164e-01  2.558e-01]\n",
            "     nit: 7\n",
            "     jac: [-2.047e+00 -1.855e-01 -2.232e+00 -2.233e+00 -1.488e+00]\n",
            "    nfev: 42\n",
            "    njev: 7\n"
          ]
        }
      ]
    },
    {
      "cell_type": "code",
      "source": [
        "# Second Iteration with initial conditions [8,7,6,5,4]\n",
        "from scipy.optimize import minimize\n",
        "\n",
        "# Given Function\n",
        "fun = lambda x: (x[0] - x[1])**2 + (x[1] + x[2]-2)**2 + (x[3]-1)**2 + (x[4]-1)**2\n",
        "\n",
        "# Given Constraints\n",
        "constraint = ({'type': 'eq', 'fun': lambda x:  x[0] + 3 * x[1]},\n",
        "        {'type': 'eq', 'fun': lambda x:  x[2]+ x[3] - 2 * x[4]},\n",
        "        {'type': 'eq', 'fun': lambda x:  x[1]-x[4]})\n",
        "\n",
        "# Given Boundary Conditions\n",
        "boundary = ((-10,10),(-10,10),(-10,10),(-10,10),(-10,10))\n",
        "\n",
        "# Given Execution\n",
        "result2 = minimize(fun, (8,7,6,5,4), method='SLSQP', bounds=boundary,constraints=constraint)\n",
        "\n",
        "# Output\n",
        "result2\n",
        "print(result2)"
      ],
      "metadata": {
        "colab": {
          "base_uri": "https://localhost:8080/"
        },
        "id": "dGaXVVf37sXL",
        "outputId": "ef07a2c6-fa2a-4ea9-f796-84416794a836"
      },
      "execution_count": 10,
      "outputs": [
        {
          "output_type": "stream",
          "name": "stdout",
          "text": [
            " message: Optimization terminated successfully\n",
            " success: True\n",
            "  status: 0\n",
            "     fun: 4.09302325586575\n",
            "       x: [-7.674e-01  2.558e-01  6.279e-01 -1.163e-01  2.558e-01]\n",
            "     nit: 7\n",
            "     jac: [-2.047e+00 -1.860e-01 -2.233e+00 -2.233e+00 -1.488e+00]\n",
            "    nfev: 43\n",
            "    njev: 7\n"
          ]
        }
      ]
    },
    {
      "cell_type": "code",
      "source": [
        "# Third Iteration with initial conditions [20,21,22,23,24]\n",
        "from scipy.optimize import minimize\n",
        "\n",
        "# Given Function\n",
        "fun = lambda x: (x[0] - x[1])**2 + (x[1] + x[2]-2)**2 + (x[3]-1)**2 + (x[4]-1)**2\n",
        "\n",
        "# Given Constraints\n",
        "constraint = ({'type': 'eq', 'fun': lambda x:  x[0] + 3 * x[1]},\n",
        "        {'type': 'eq', 'fun': lambda x:  x[2]+ x[3] - 2 * x[4]},\n",
        "        {'type': 'eq', 'fun': lambda x:  x[1]-x[4]})\n",
        "\n",
        "# Given Boundary Conditions\n",
        "boundary = ((-10,10),(-10,10),(-10,10),(-10,10),(-10,10))\n",
        "\n",
        "# Given Execution\n",
        "result3 = minimize(fun, (20,21,22,23,24), method='SLSQP', bounds=boundary,constraints=constraint)\n",
        "\n",
        "# Output\n",
        "result3\n",
        "print(result3)"
      ],
      "metadata": {
        "colab": {
          "base_uri": "https://localhost:8080/"
        },
        "id": "ItBeRBdu-ohL",
        "outputId": "c55d53d1-9d2a-4a35-deab-a6bd06254423"
      },
      "execution_count": 11,
      "outputs": [
        {
          "output_type": "stream",
          "name": "stdout",
          "text": [
            " message: Optimization terminated successfully\n",
            " success: True\n",
            "  status: 0\n",
            "     fun: 4.093023258012615\n",
            "       x: [-7.675e-01  2.558e-01  6.279e-01 -1.162e-01  2.558e-01]\n",
            "     nit: 8\n",
            "     jac: [-2.047e+00 -1.861e-01 -2.233e+00 -2.232e+00 -1.488e+00]\n",
            "    nfev: 48\n",
            "    njev: 8\n"
          ]
        }
      ]
    },
    {
      "cell_type": "code",
      "source": [
        "# Fourth Iteration with initial conditions [30,30,30,30,30]\n",
        "from scipy.optimize import minimize\n",
        "\n",
        "# Given Function\n",
        "fun = lambda x: (x[0] - x[1])**2 + (x[1] + x[2]-2)**2 + (x[3]-1)**2 + (x[4]-1)**2\n",
        "\n",
        "# Given Constraints\n",
        "constraint = ({'type': 'eq', 'fun': lambda x:  x[0] + 3 * x[1]},\n",
        "        {'type': 'eq', 'fun': lambda x:  x[2]+ x[3] - 2 * x[4]},\n",
        "        {'type': 'eq', 'fun': lambda x:  x[1]-x[4]})\n",
        "\n",
        "# Given Boundary Conditions\n",
        "boundary = ((-10,10),(-10,10),(-10,10),(-10,10),(-10,10))\n",
        "\n",
        "# Execution\n",
        "result4 = minimize(fun, (30,30,30,30,30), method='SLSQP', bounds=boundary,constraints=constraint)\n",
        "\n",
        "# Output\n",
        "result4\n",
        "print(result4)"
      ],
      "metadata": {
        "colab": {
          "base_uri": "https://localhost:8080/"
        },
        "id": "5b4V2U1I_il5",
        "outputId": "312d9b0c-45df-4fca-aa28-479a0cc4f7a8"
      },
      "execution_count": 12,
      "outputs": [
        {
          "output_type": "stream",
          "name": "stdout",
          "text": [
            " message: Optimization terminated successfully\n",
            " success: True\n",
            "  status: 0\n",
            "     fun: 4.093023258012615\n",
            "       x: [-7.675e-01  2.558e-01  6.279e-01 -1.162e-01  2.558e-01]\n",
            "     nit: 8\n",
            "     jac: [-2.047e+00 -1.861e-01 -2.233e+00 -2.232e+00 -1.488e+00]\n",
            "    nfev: 48\n",
            "    njev: 8\n"
          ]
        }
      ]
    },
    {
      "cell_type": "code",
      "source": [
        "# Fifth Iteration with initial conditions [-30,-30,-30,-30,-30]\n",
        "from scipy.optimize import minimize\n",
        "\n",
        "# Given Function\n",
        "fun = lambda x: (x[0] - x[1])**2 + (x[1] + x[2]-2)**2 + (x[3]-1)**2 + (x[4]-1)**2\n",
        "\n",
        "# Given  Constraints\n",
        "constraint = ({'type': 'eq', 'fun': lambda x:  x[0] + 3 * x[1]},\n",
        "        {'type': 'eq', 'fun': lambda x:  x[2]+ x[3] - 2 * x[4]},\n",
        "        {'type': 'eq', 'fun': lambda x:  x[1]-x[4]})\n",
        "\n",
        "# Given Boundary Conditions\n",
        "boundary = ((-10,10),(-10,10),(-10,10),(-10,10),(-10,10))\n",
        "\n",
        "# Execution\n",
        "result5 = minimize(fun, (-30,-30,-30,-30,-30), method='SLSQP', bounds=boundary,constraints=constraint)\n",
        "\n",
        "# Output\n",
        "result5\n",
        "print(result5)"
      ],
      "metadata": {
        "colab": {
          "base_uri": "https://localhost:8080/"
        },
        "id": "fHvSdkgTADL3",
        "outputId": "1c32da9f-f23b-4838-b8ef-0f188b5470ce"
      },
      "execution_count": 13,
      "outputs": [
        {
          "output_type": "stream",
          "name": "stdout",
          "text": [
            " message: Optimization terminated successfully\n",
            " success: True\n",
            "  status: 0\n",
            "     fun: 4.09302325604787\n",
            "       x: [-7.674e-01  2.558e-01  6.279e-01 -1.163e-01  2.558e-01]\n",
            "     nit: 8\n",
            "     jac: [-2.047e+00 -1.860e-01 -2.233e+00 -2.233e+00 -1.488e+00]\n",
            "    nfev: 48\n",
            "    njev: 8\n"
          ]
        }
      ]
    },
    {
      "cell_type": "code",
      "source": [
        "# Sixth Iteration with initial conditions [0,0,0,0,0]\n",
        "from scipy.optimize import minimize\n",
        "\n",
        "# Given Function\n",
        "fun = lambda x: (x[0] - x[1])**2 + (x[1] + x[2]-2)**2 + (x[3]-1)**2 + (x[4]-1)**2\n",
        "\n",
        "# Given Constraints\n",
        "constraint = ({'type': 'eq', 'fun': lambda x:  x[0] + 3 * x[1]},\n",
        "        {'type': 'eq', 'fun': lambda x:  x[2]+ x[3] - 2 * x[4]},\n",
        "        {'type': 'eq', 'fun': lambda x:  x[1]-x[4]})\n",
        "\n",
        "# Given Boundary Conditions\n",
        "boundary = ((-10,10),(-10,10),(-10,10),(-10,10),(-10,10))\n",
        "\n",
        "# Execution\n",
        "result6 = minimize(fun, (0,0,0,0,0), method='SLSQP', bounds=boundary,constraints=constraint)\n",
        "\n",
        "# Output\n",
        "result6\n",
        "print(result6)"
      ],
      "metadata": {
        "colab": {
          "base_uri": "https://localhost:8080/"
        },
        "id": "2x4rXF6pAXmA",
        "outputId": "52362cda-0a00-4fe7-c250-94416f001bea"
      },
      "execution_count": 14,
      "outputs": [
        {
          "output_type": "stream",
          "name": "stdout",
          "text": [
            " message: Optimization terminated successfully\n",
            " success: True\n",
            "  status: 0\n",
            "     fun: 4.093023255813954\n",
            "       x: [-7.674e-01  2.558e-01  6.279e-01 -1.163e-01  2.558e-01]\n",
            "     nit: 3\n",
            "     jac: [-2.047e+00 -1.860e-01 -2.233e+00 -2.233e+00 -1.488e+00]\n",
            "    nfev: 20\n",
            "    njev: 3\n"
          ]
        }
      ]
    },
    {
      "cell_type": "markdown",
      "source": [
        "###If you change your initial guess, do you find different solutions?\n",
        "\n",
        "\n",
        "Initial condition (Iteration) | Function | X values\n",
        "--- | --- | ---\n",
        "[-4,-5,-6,-7,-8] | 4.093023311079211 |  [-7.675e-01  2.558e-01  6.281e-01 -1.164e-01  2.558e-01]\n",
        "[8,7,6,5,4] | 4.09302325586575 |  [-7.674e-01  2.558e-01  6.279e-01 -1.163e-01  2.558e-01]\n",
        "[20,21,22,23,24] | 4.093023258012615 |  [-7.675e-01  2.558e-01  6.279e-01 -1.162e-01  2.558e-01]\n",
        "[30,30,30,30,30] | 4.093023258012615 |  [-7.675e-01  2.558e-01  6.279e-01 -1.162e-01  2.558e-01]\n",
        "[-30,-30,-30,-30,-30] | 4.09302325604787 |  [-7.674e-01  2.558e-01  6.279e-01 -1.163e-01  2.558e-01]\n",
        "[0,0,0,0,0] | 4.093023255813954 |  [-7.674e-01  2.558e-01  6.279e-01 -1.163e-01  2.558e-01]\n",
        "\n"
      ],
      "metadata": {
        "id": "7x598h4FDMZM"
      }
    },
    {
      "cell_type": "markdown",
      "source": [
        "From the above comparison, it can be seen that over a large range of inital conditions, there is very minimum change in the solution.\n"
      ],
      "metadata": {
        "id": "dsVVRv1RHNMa"
      }
    },
    {
      "cell_type": "markdown",
      "source": [
        "### Q2. Let x and b ∈ Rn be vectors and A ∈ Rn×n be a square matrix. Define\n",
        "f : Rn → R as f (x) = b^T x + x^T Ax.\n",
        "\n",
        "###Answer -\n",
        "\n",
        "(a) What are the gradient and Hessian of f (x) with respect to x?\n",
        "\n",
        "Gradient g(x)=∂f(x)/∂x = b+(A+A^T)x ; Hessian H(x)= ∂g(x)/∂x = (A+A^T)\n",
        "\n",
        "\n",
        "(b) Derive the first- and second-order Taylor’s approximations of f (x)\n",
        "at x = 0. Are these approximations exact?\n",
        "\n",
        "\n",
        "The first-order Taylor's approximation of a function f(x) at a point x = a is given by:\n",
        "f(x) ≈ f(a) + ∇f(a)^T (x - a)\n",
        "\n",
        "The second-order Taylor's approximation includes both linear and quadratic terms:\n",
        "f(x) ≈ f(a) + ∇f(a)^T (x - a) + 0.5 * (x - a)^T H(a) (x - a)\n",
        "\n",
        "\n",
        "At x = 0:\n",
        "\n",
        "First-order Taylor's approximation:\n",
        "f(x) ≈ f(0) + ∇f(0)^T x = b^T x\n",
        "\n",
        "Second-order Taylor's approximation:\n",
        "f(x) ≈ f(0) + ∇f(0)^T x + 0.5 * x^T H(0) x = b^T x + 0.5 * x^T (A + A^T) x\n",
        "\n",
        "\n",
        "Are these approximations exact?\n",
        "\n",
        "No, these approximations are not exact. They are valid when x is close to the point of approximation (x = 0 in this case). The higher-order terms in the Taylor's series expansion are neglected in these approximations, making them accurate only in the vicinity of the point of approximation\n",
        "\n",
        "\n",
        "\n"
      ],
      "metadata": {
        "id": "afXh9SABgT0q"
      }
    },
    {
      "cell_type": "markdown",
      "source": [
        "### Q3. Let A ∈ Rn×n be a square matrix\n",
        "\n",
        "### Answer-\n",
        "\n",
        "a) What are the necessary and sufficient conditions for A to be pos-\n",
        "itive definite?\n",
        "\n",
        "If all of the eigen values are positive, then A is positive definite.\n",
        "\n",
        "(b) What are the necessary and sufficient conditions for A to have full\n",
        "rank?\n",
        "\n",
        "If the determinant of A is nonzero then A will have full rank.\n",
        "\n",
        "(c) If there exists y ∈ Rn and y 6 = 0 such that AT y = 0, then what\n",
        "are the conditions on b for Ax = b to have a solution for x?\n",
        "\n",
        "b should be orthogonal to y for Ax=b to have a solution for x.\n",
        "\n"
      ],
      "metadata": {
        "id": "Y34jOWtvreOL"
      }
    },
    {
      "cell_type": "markdown",
      "source": [
        "### Q4. Due to the recent inflation, let’s reconsider the Stigler diet problem proposed by Nobel laureate George Stigler after the second World War: Consider that the grocery store offers N types of food of your interest, and each food contains the same M types of nutrition. Denote aij as the quantity of nutrition type j of food type i for i = 1, 2, ..., N and j = 1, 2, ..., M , ci the unit price of food type i, and bj the necessary quantity of nutrition type j for a month. Formulate an optimization problem to determine the minimum grocery cost to satisfy the nutrition needs.\n",
        "\n",
        "### Answer-\n",
        "\n",
        "Variables:\n",
        "\n",
        "Let's define the decision variables:\n",
        "xi as the quantity of food type i to be purchased.\n",
        "\n",
        "Objective Fuction:\n",
        "\n",
        "The objective is to minimize the total cost while meeting the nutritional requirements:\n",
        "\n",
        "Minimize:\n",
        "$\\sum_{i=1}^N c_{i} x_{i}$   \n",
        "\n",
        "Constraints:\n",
        "\n",
        "1) Nutritional Requirements Constraint:\n",
        "For each nutritional type j, the total amount of nutrition obtained from the selected foods should meet or exceed the required amount $b_{j}$\n",
        "\n",
        "$\\sum_{i=1}^N a_{ij} x_{i} >= b_{j}$, for $j=1,2,...,M$\n",
        "\n",
        "\n",
        "2) Non-Negativity Constraint:\n",
        "The quantity of each food type purchased cannot be negative:\n",
        "$x_{i} >= 0$, for $i = 1,2,...,N$\n",
        "\n",
        "The complete optimization problem can be summarized as:\n",
        "\n",
        "Minimize: $\\sum_{i=1}^N c_{i} x_{i}$  \n",
        "\n",
        "Subject to:\n",
        "\n",
        "$\\sum_{i=1}^N a_{ij} x_{i} >= b_{j}$, for $j=1,2,...,M$\n",
        "\n",
        "$x_{i} >= 0$, for $i = 1,2,...,N$\n",
        "\n",
        "\n",
        "In this problem, $N$ represents the number of food types available, $M$ represents the number of nutritional types, $a_{ij}$  represents the quantity of nutritional type $j$ in food type $i$, $c_{i}$ represents the cost of food type $i$, and $ b_{j}$ represents the required quantity of nutritional type $j$ for a month.\n",
        "\n"
      ],
      "metadata": {
        "id": "kiSXQSX-tLF1"
      }
    }
  ]
}